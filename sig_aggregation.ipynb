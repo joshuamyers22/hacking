{
 "cells": [
  {
   "cell_type": "markdown",
   "id": "f7818c90",
   "metadata": {},
   "source": [
    "# signal aggregation"
   ]
  },
  {
   "cell_type": "code",
   "execution_count": 1,
   "id": "dc7e0513",
   "metadata": {},
   "outputs": [],
   "source": [
    "import numpy as np"
   ]
  },
  {
   "cell_type": "code",
   "execution_count": 2,
   "id": "fee5263d",
   "metadata": {},
   "outputs": [],
   "source": [
    "np.random.seed(1)\n",
    "t = 1000 #time steps\n",
    "n = 100 #signals\n",
    "c = 0.1 #costs\n",
    "p = 0.05 #correlation"
   ]
  },
  {
   "cell_type": "code",
   "execution_count": 3,
   "id": "f6f7755c",
   "metadata": {},
   "outputs": [],
   "source": [
    "#generate returns\n",
    "r = np.random.normal(0,1,t)"
   ]
  },
  {
   "cell_type": "code",
   "execution_count": 4,
   "id": "40b9c1d1",
   "metadata": {},
   "outputs": [],
   "source": [
    "#build covariance matrix\n",
    "E = np.full((n+1, n+1), p)\n",
    "np.fill_diagonal(E,1)"
   ]
  },
  {
   "cell_type": "code",
   "execution_count": 5,
   "id": "99bb2fe9",
   "metadata": {},
   "outputs": [],
   "source": [
    "#cholesky decomp of covariance matrix\n",
    "L = np.linalg.cholesky(E)"
   ]
  },
  {
   "cell_type": "code",
   "execution_count": 6,
   "id": "cfaefee2",
   "metadata": {},
   "outputs": [],
   "source": [
    "#generate signals\n",
    "s = np.random.normal(0,1,(n,t))"
   ]
  },
  {
   "cell_type": "code",
   "execution_count": 7,
   "id": "1893b9ba",
   "metadata": {},
   "outputs": [],
   "source": [
    "#combine true returns and signals\n",
    "C = np.vstack([r,s])"
   ]
  },
  {
   "cell_type": "code",
   "execution_count": 8,
   "id": "a2645737",
   "metadata": {},
   "outputs": [],
   "source": [
    "#cholesky projects signals to target correlation\n",
    "C = L.T @ C "
   ]
  },
  {
   "cell_type": "code",
   "execution_count": 9,
   "id": "5675f78e",
   "metadata": {},
   "outputs": [],
   "source": [
    "r = C[0] #true returns\n",
    "s = C[1:] #collection of signals"
   ]
  },
  {
   "cell_type": "code",
   "execution_count": 11,
   "id": "dd19241f",
   "metadata": {},
   "outputs": [],
   "source": [
    "#simple signal weighting\n",
    "m = np.mean(s, axis=0)"
   ]
  },
  {
   "cell_type": "code",
   "execution_count": 12,
   "id": "9f89f05b",
   "metadata": {},
   "outputs": [],
   "source": [
    "#returns of individual signals net of costs\n",
    "net_s = s * r - c"
   ]
  },
  {
   "cell_type": "code",
   "execution_count": 13,
   "id": "8d0013ea",
   "metadata": {},
   "outputs": [],
   "source": [
    "#average net returns for the individual signals\n",
    "cum_net_s = (np.cumprod(1 + net_s / 100, axis=1) - 1)[:,-1]"
   ]
  },
  {
   "cell_type": "code",
   "execution_count": 15,
   "id": "5d9fd5b3",
   "metadata": {},
   "outputs": [],
   "source": [
    "#returns of combined signals net of costs\n",
    "net_m = m * r - c"
   ]
  },
  {
   "cell_type": "code",
   "execution_count": 23,
   "id": "0581dc38",
   "metadata": {},
   "outputs": [
    {
     "name": "stdout",
     "output_type": "stream",
     "text": [
      "0.049578037548545506\n"
     ]
    }
   ],
   "source": [
    "#cumulative return for combined signal\n",
    "cum_net_m = (np.cumprod(1 + net_m / 100) - 1)[-1]\n",
    "print(cum_net_m)"
   ]
  },
  {
   "cell_type": "code",
   "execution_count": 22,
   "id": "949077b5",
   "metadata": {},
   "outputs": [
    {
     "name": "stdout",
     "output_type": "stream",
     "text": [
      "0.46\n"
     ]
    }
   ],
   "source": [
    "#percentage of individual signals that are profitable\n",
    "profitable_s = np.sum(cum_net_s > 0) / s.shape[0]\n",
    "print(profitable_s)"
   ]
  },
  {
   "cell_type": "code",
   "execution_count": 25,
   "id": "56c9b50e",
   "metadata": {},
   "outputs": [
    {
     "name": "stdout",
     "output_type": "stream",
     "text": [
      "0.9947267901129989\n"
     ]
    }
   ],
   "source": [
    "#average st deviation of indvidual signals\n",
    "vol_s = np.mean(np.std(s, axis=1))\n",
    "print(vol_s)"
   ]
  },
  {
   "cell_type": "code",
   "execution_count": 27,
   "id": "ba7bd82c",
   "metadata": {},
   "outputs": [
    {
     "name": "stdout",
     "output_type": "stream",
     "text": [
      "0.2077489784781548\n"
     ]
    }
   ],
   "source": [
    "#st deviation of combined signal\n",
    "vol_m = np.std(m)\n",
    "print(vol_m)"
   ]
  },
  {
   "cell_type": "markdown",
   "id": "95ee445c",
   "metadata": {},
   "source": [
    "toy model to show potential power of signal aggregation. averaging signals where a majority were unprofitable after costs can create a profitable model. There is room for improvement over a simple average, however.  The real interesting thing is the decrease in st deviation of the averaged "
   ]
  }
 ],
 "metadata": {
  "kernelspec": {
   "display_name": "Python 3",
   "language": "python",
   "name": "python3"
  },
  "language_info": {
   "codemirror_mode": {
    "name": "ipython",
    "version": 3
   },
   "file_extension": ".py",
   "mimetype": "text/x-python",
   "name": "python",
   "nbconvert_exporter": "python",
   "pygments_lexer": "ipython3",
   "version": "3.8.5"
  }
 },
 "nbformat": 4,
 "nbformat_minor": 5
}
