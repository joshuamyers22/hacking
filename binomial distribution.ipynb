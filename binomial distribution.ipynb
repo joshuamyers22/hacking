{
 "cells": [
  {
   "cell_type": "markdown",
   "id": "d1e62618",
   "metadata": {},
   "source": [
    "# binomial distribution"
   ]
  },
  {
   "cell_type": "markdown",
   "id": "985270e5",
   "metadata": {},
   "source": [
    "letting E_0 = S_0 = 1 we can recursively calculate E(X) and E(X^2) for a binomial distribution with n trials"
   ]
  },
  {
   "cell_type": "markdown",
   "id": "cf65950b",
   "metadata": {},
   "source": [
    "E_n = E_{n-1} + p = np"
   ]
  },
  {
   "cell_type": "markdown",
   "id": "03fd08a0",
   "metadata": {},
   "source": [
    "S_n = S_{n-1} + 2p * E_{n-1} + p = np + (n^2 - n)p^2"
   ]
  },
  {
   "cell_type": "markdown",
   "id": "ed6ea09b",
   "metadata": {},
   "source": [
    "V_n = npq"
   ]
  },
  {
   "cell_type": "markdown",
   "id": "9d1d7863",
   "metadata": {},
   "source": [
    "useful for kelly betting"
   ]
  },
  {
   "cell_type": "code",
   "execution_count": 1,
   "id": "30313e47",
   "metadata": {},
   "outputs": [],
   "source": [
    "def binomial_moments(n, p):\n",
    "    \"\"\"\n",
    "    Calculate moments of a binomial distribution using recursive formulas.\n",
    "    \n",
    "    Parameters:\n",
    "    n (int): Number of trials\n",
    "    p (float): Probability of success in a single trial\n",
    "    \n",
    "    Returns:\n",
    "    tuple: (E_n, S_n, V_n) - expected value, second moment, and variance\n",
    "    \"\"\"\n",
    "    # Base case\n",
    "    if n == 0:\n",
    "        return 0, 0, 0\n",
    "    \n",
    "    # Recursive case\n",
    "    E_prev, S_prev, _ = binomial_moments(n-1, p)\n",
    "    \n",
    "    # Calculate expected value (first moment)\n",
    "    E_n = E_prev + p\n",
    "    \n",
    "    # Calculate second moment\n",
    "    S_n = S_prev + 2*p*E_prev + p\n",
    "    \n",
    "    # Calculate variance\n",
    "    q = 1 - p\n",
    "    V_n = n*p*q\n",
    "    \n",
    "    return E_n, S_n, V_n"
   ]
  },
  {
   "cell_type": "code",
   "execution_count": 2,
   "id": "9efb2442",
   "metadata": {},
   "outputs": [],
   "source": [
    "def verify(n, p):\n",
    "    \"\"\"\n",
    "    Verify that the recursive formulas match the expected results:\n",
    "    E_n = np\n",
    "    S_n = np + (n²-n)p²\n",
    "    V_n = npq\n",
    "    \"\"\"\n",
    "    E_n, S_n, V_n = binomial_moments(n, p)\n",
    "    expected_E_n = n*p\n",
    "    expected_S_n = n*p + (n*n - n)*(p*p)\n",
    "    expected_V_n = n*p*(1-p)\n",
    "    \n",
    "    print(f\"For n={n}, p={p}:\")\n",
    "    print(f\"E_n: calculated={E_n}, expected={expected_E_n}\")\n",
    "    print(f\"S_n: calculated={S_n}, expected={expected_S_n}\")\n",
    "    print(f\"V_n: calculated={V_n}, expected={expected_V_n}\")"
   ]
  },
  {
   "cell_type": "code",
   "execution_count": 3,
   "id": "d3164b42",
   "metadata": {},
   "outputs": [
    {
     "name": "stdout",
     "output_type": "stream",
     "text": [
      "For n=10, p=0.3:\n",
      "E_n: calculated=2.9999999999999996, expected=3.0\n",
      "S_n: calculated=11.1, expected=11.1\n",
      "V_n: calculated=2.0999999999999996, expected=2.0999999999999996\n"
     ]
    }
   ],
   "source": [
    "n, p = 10, 0.3\n",
    "verify(n, p)"
   ]
  },
  {
   "cell_type": "code",
   "execution_count": null,
   "id": "f99f24b8",
   "metadata": {},
   "outputs": [],
   "source": []
  }
 ],
 "metadata": {
  "kernelspec": {
   "display_name": "Python 3",
   "language": "python",
   "name": "python3"
  },
  "language_info": {
   "codemirror_mode": {
    "name": "ipython",
    "version": 3
   },
   "file_extension": ".py",
   "mimetype": "text/x-python",
   "name": "python",
   "nbconvert_exporter": "python",
   "pygments_lexer": "ipython3",
   "version": "3.8.5"
  }
 },
 "nbformat": 4,
 "nbformat_minor": 5
}
