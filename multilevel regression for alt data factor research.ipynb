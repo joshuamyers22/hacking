{
 "cells": [
  {
   "cell_type": "markdown",
   "id": "778d3e2f",
   "metadata": {},
   "source": [
    "# generalized factor research with specific applications to alt data"
   ]
  },
  {
   "cell_type": "markdown",
   "id": "344d8854",
   "metadata": {},
   "source": [
    "Assume a dataset is ticker tagged for 200 stocks which respond to the dataset in similar ways based on either and economic basis or investor behavior"
   ]
  },
  {
   "cell_type": "code",
   "execution_count": 1,
   "id": "a5c6e1b7",
   "metadata": {},
   "outputs": [],
   "source": [
    "import numpy as np\n",
    "import pandas as pd"
   ]
  },
  {
   "cell_type": "markdown",
   "id": "5a89a280",
   "metadata": {},
   "source": [
    "simulate returns and signal"
   ]
  },
  {
   "cell_type": "code",
   "execution_count": 4,
   "id": "b9a94270",
   "metadata": {},
   "outputs": [],
   "source": [
    "r = 0 #avg return\n",
    "r_sig = 1 #avg return conditioned on signal\n",
    "sigma_alpha = 0.5 #alpha st dev\n",
    "sigma_beta = 0.3 #beta st dev\n",
    "rho = 0.4 #correlation between alpha and beta\n",
    "\n",
    "#means\n",
    "Mu = np.array([r, r_sig])\n",
    "\n",
    "#covariance\n",
    "Cov = np.diag([r, r_sig]) @ np.array([1, rho, rho, 1]).reshape(2,2) @ np.diag([r, r_sig])\n",
    "\n",
    "\n"
   ]
  },
  {
   "cell_type": "markdown",
   "id": "662768f7",
   "metadata": {},
   "source": [
    "formally we can say the alt dataset comprises an explanatory factor portfolio and the equity returns have betas to that factor. Can be exploited with superior signal construction"
   ]
  },
  {
   "cell_type": "code",
   "execution_count": 5,
   "id": "b642de34",
   "metadata": {},
   "outputs": [],
   "source": [
    "#pop equity data\n",
    "m_symbols = 200\n",
    "\n",
    "np.random.seed(60)\n",
    "mvr = np.random.multivariate_normal(Mu, Cov, m_symbols)\n",
    "\n",
    "alpha_ret = mvr[:,0]\n",
    "beta_ret = mvr[:,1]"
   ]
  },
  {
   "cell_type": "code",
   "execution_count": 7,
   "id": "e4635198",
   "metadata": {},
   "outputs": [],
   "source": [
    "#train set: simulate 50 return samples for each symbol\n",
    "\n",
    "np.random.seed(64)\n",
    "n_samples = 50\n",
    "\n",
    "event = np.random.uniform(0,1, int(n_samples * m_symbols))\n",
    "sym_id = np.repeat(list(range(1, m_symbols + 1)), n_samples)\n",
    "mu = alpha_ret[sym_id - 1] + beta_ret[sym_id - 1] * event\n",
    "sigma = 0.5\n",
    "\n",
    "ret = np.random.normal(mu, sigma, m_symbols * n_samples)\n",
    "train_df = pd.DataFrame({'symbol' : sym_id, 'event' : event, 'ret' : ret})\n"
   ]
  },
  {
   "cell_type": "code",
   "execution_count": 9,
   "id": "94cbb5b4",
   "metadata": {},
   "outputs": [],
   "source": [
    "#test set: simulate 0 return samples for each symbol \n",
    "\n",
    "np.random.seed(32)\n",
    "n_samples = 20\n",
    "\n",
    "event = np.random.uniform(0,1, int(n_samples * m_symbols))\n",
    "sym_id = np.repeat(list(range(1, m_symbols + 1)), n_samples)\n",
    "mu = alpha_ret[sym_id - 1] + beta_ret[sym_id -1] * event\n",
    "sigma = 0.5\n",
    "\n",
    "ret = np.random.normal(mu, sigma, m_symbols * n_samples)\n",
    "test_df = pd.DataFrame({'symbol' : sym_id, 'event' : event, 'ret' : ret})"
   ]
  },
  {
   "cell_type": "markdown",
   "id": "2d0fe63c",
   "metadata": {},
   "source": [
    "Now that we have a train set and a test set let's try fitting an OLS model to each equity based on only its sample of the data, individually. We'll estimate the model on the train set, then evaluate it via MSE on the test set (MSE rather than MAE because we want to penalize large errors)."
   ]
  },
  {
   "cell_type": "markdown",
   "id": "a4dc1eaa",
   "metadata": {},
   "source": [
    "We evaluate the per-symbol models (\"no pooling\") and average their MSEs, then evaluate out of sample on the entire dataset (\"complete pooling\"). "
   ]
  },
  {
   "cell_type": "code",
   "execution_count": 12,
   "id": "98576441",
   "metadata": {},
   "outputs": [
    {
     "name": "stdout",
     "output_type": "stream",
     "text": [
      "0.6045999327511623\n"
     ]
    }
   ],
   "source": [
    "import statsmodels.api as sm\n",
    "\n",
    "symbol_mse = []\n",
    "total_y = []\n",
    "total_y_hat = []\n",
    "rsq = []\n",
    "pval = []\n",
    "\n",
    "for symbol in train_df['symbol'].drop_duplicates().to_list():\n",
    "    train_data = train_df.loc[train_df['symbol'] == symbol][['event', 'ret']].to_numpy()\n",
    "    y = train_data.T[1].reshape(-1,1)\n",
    "    X = sm.add_constant(train_data.T[0])\n",
    "    model = sm.OLS(y, X).fit()\n",
    "    rsq.append(model.rsquared)\n",
    "    pval.append(model.pvalues)\n",
    "    \n",
    "    #evaluate model via MSE\n",
    "    test_data = test_df.loc[test_df['symbol'] == symbol][['event', 'ret']].to_numpy()\n",
    "    y = test_data.T[1].reshape(-1,1)\n",
    "    X = sm.add_constant(test_data.T[0])\n",
    "    \n",
    "    y_hat = model.predict(exog=X)\n",
    "    \n",
    "    mse = np.square(y - y_hat).mean()\n",
    "    total_y += [k for k in y]\n",
    "    total_y_hat += [k for k in y_hat]\n",
    "    symbol_mse.append(mse)\n",
    "    \n",
    "#avg of MSE across per-symbol models\n",
    "print(np.mean(symbol_mse))\n"
   ]
  },
  {
   "cell_type": "code",
   "execution_count": 13,
   "id": "b8815e7a",
   "metadata": {},
   "outputs": [
    {
     "name": "stdout",
     "output_type": "stream",
     "text": [
      "1.2134402679058207\n"
     ]
    }
   ],
   "source": [
    "#measure MSE across entire dataset\n",
    "print(np.square(np.array(total_y) - np.array(total_y_hat)).mean())"
   ]
  },
  {
   "cell_type": "markdown",
   "id": "9dbd8dd9",
   "metadata": {},
   "source": [
    "no pooling performs much better per-symbol than on the entire dataset"
   ]
  },
  {
   "cell_type": "markdown",
   "id": "86b60251",
   "metadata": {},
   "source": [
    "let's try complete pooling. the model estimates the alt dataset's signal across the entire sample of equities without any conditioning"
   ]
  },
  {
   "cell_type": "code",
   "execution_count": 14,
   "id": "63c3e4f7",
   "metadata": {},
   "outputs": [
    {
     "name": "stdout",
     "output_type": "stream",
     "text": [
      "                            OLS Regression Results                            \n",
      "==============================================================================\n",
      "Dep. Variable:                      y   R-squared:                       0.125\n",
      "Model:                            OLS   Adj. R-squared:                  0.125\n",
      "Method:                 Least Squares   F-statistic:                     1425.\n",
      "Date:                Tue, 18 Mar 2025   Prob (F-statistic):          1.22e-291\n",
      "Time:                        11:15:43   Log-Likelihood:                -11933.\n",
      "No. Observations:               10000   AIC:                         2.387e+04\n",
      "Df Residuals:                    9998   BIC:                         2.389e+04\n",
      "Df Model:                           1                                         \n",
      "Covariance Type:            nonrobust                                         \n",
      "==============================================================================\n",
      "                 coef    std err          t      P>|t|      [0.025      0.975]\n",
      "------------------------------------------------------------------------------\n",
      "const         -0.0077      0.016     -0.485      0.628      -0.039       0.024\n",
      "x1             1.0470      0.028     37.749      0.000       0.993       1.101\n",
      "==============================================================================\n",
      "Omnibus:                      185.057   Durbin-Watson:                   1.129\n",
      "Prob(Omnibus):                  0.000   Jarque-Bera (JB):              317.424\n",
      "Skew:                           0.154   Prob(JB):                     1.18e-69\n",
      "Kurtosis:                       3.817   Cond. No.                         4.39\n",
      "==============================================================================\n",
      "\n",
      "Notes:\n",
      "[1] Standard Errors assume that the covariance matrix of the errors is correctly specified.\n"
     ]
    }
   ],
   "source": [
    "pooled_mse = []\n",
    "\n",
    "train_data = train_df[['event', 'ret']].to_numpy()\n",
    "y = train_data.T[1].reshape(-1,1)\n",
    "X = sm.add_constant(train_data.T[0])\n",
    "model = sm.OLS(y, X).fit()\n",
    "print(model.summary())"
   ]
  },
  {
   "cell_type": "code",
   "execution_count": 15,
   "id": "137d330e",
   "metadata": {},
   "outputs": [
    {
     "name": "stdout",
     "output_type": "stream",
     "text": [
      "0.7995235612194488\n"
     ]
    }
   ],
   "source": [
    "for symbol in train_df['symbol'].drop_duplicates().to_list():\n",
    "    test_data = test_df.loc[test_df['symbol'] == symbol][['event', 'ret']].to_numpy()\n",
    "    y = test_data.T[1].reshape(-1,1)\n",
    "    X = sm.add_constant(test_data.T[0])\n",
    "    \n",
    "    y_hat = model.predict(exog=X)\n",
    "    \n",
    "    mse = np.square(y - y_hat).mean()\n",
    "    pooled_mse.append(mse)\n",
    "    \n",
    "print(np.mean(pooled_mse))"
   ]
  },
  {
   "cell_type": "code",
   "execution_count": 16,
   "id": "31a0e002",
   "metadata": {},
   "outputs": [
    {
     "data": {
      "text/plain": [
       "0.46133958908871653"
      ]
     },
     "execution_count": 16,
     "metadata": {},
     "output_type": "execute_result"
    }
   ],
   "source": [
    "X = sm.add_constant(test_df['event'].to_numpy())\n",
    "y_hat = model.predict(X)\n",
    "np.square(y-y_hat).mean()"
   ]
  },
  {
   "cell_type": "markdown",
   "id": "8d45002b",
   "metadata": {},
   "source": [
    "complete pooling performs much better on entire dataset than per-symbol"
   ]
  },
  {
   "cell_type": "markdown",
   "id": "e448f206",
   "metadata": {},
   "source": [
    "we can also fit a multilevel regression model. The fixed effects have an interpretation as the completely pooled regression coefficient and the random effects are per-symbol deviations. To make a per-symbol prediction we sum the effects. "
   ]
  },
  {
   "cell_type": "code",
   "execution_count": 18,
   "id": "f17ca549",
   "metadata": {},
   "outputs": [
    {
     "name": "stdout",
     "output_type": "stream",
     "text": [
      "0.3465367586251309\n"
     ]
    }
   ],
   "source": [
    "#build mixed effects model - partial pooling on symbols\n",
    "\n",
    "import statsmodels.formula.api as smf\n",
    "\n",
    "model = smf.mixedlm('ret ~ event', train_df, groups=train_df['symbol'])\n",
    "md = model.fit()\n",
    "re = {symbol: md.random_effects[symbol][0] for symbol in md.random_effects}\n",
    "test_df['fe'] = md.predict(exog=test_df)\n",
    "test_df['re'] = test_df['symbol'].map(re)\n",
    "test_df['ret_hat'] = test_df['fe'] + test_df['re']\n",
    "\n",
    "mse = []\n",
    "\n",
    "for symbol in test_df['symbol'].drop_duplicates().to_list():\n",
    "    test_data = test_df.loc[test_df['symbol'] == symbol]\n",
    "    sym_mse = np.square(test_data['ret'] - test_data['ret_hat']).mean()\n",
    "    mse.append(sym_mse)\n",
    "    \n",
    "print(np.mean(mse))"
   ]
  },
  {
   "cell_type": "markdown",
   "id": "64bfc0dd",
   "metadata": {},
   "source": [
    "this outperforms both the pooled and unpooled versions"
   ]
  },
  {
   "cell_type": "markdown",
   "id": "899f5484",
   "metadata": {},
   "source": [
    "in addition to improved out-of-sample accuracy this comes with an elegant basis for portfolio construction. The random effects have a natural interpretation as the relative out (under) performance of each symbol - neutral to the group/cluster on which the model was estimated.\n",
    "\n",
    "So for each alt dataset with which this modeling approach works, you can simple sort by random effects in each group, long the top decile of random effects, short the bottom decile of random effects, and hedge the remainder to trade a neutral basket."
   ]
  },
  {
   "cell_type": "code",
   "execution_count": 20,
   "id": "b90ee028",
   "metadata": {},
   "outputs": [
    {
     "data": {
      "text/plain": [
       "symbol\n",
       "1       0.813416\n",
       "2      10.827506\n",
       "3      -5.687411\n",
       "4       9.846481\n",
       "5       5.026724\n",
       "         ...    \n",
       "196    11.671410\n",
       "197     1.697227\n",
       "198     1.975334\n",
       "199    -0.024482\n",
       "200     0.902371\n",
       "Name: strategy_ret, Length: 200, dtype: float64"
      ]
     },
     "execution_count": 20,
     "metadata": {},
     "output_type": "execute_result"
    }
   ],
   "source": [
    "# Sort within each symbol group by random effects\n",
    "train_df = train_df.sort_values(by=['event'])\n",
    "\n",
    "# Define function to classify deciles\n",
    "def classify_decile(group):\n",
    "    group['decile'] = pd.qcut(group['event'], 10, labels=False)\n",
    "    return group\n",
    "\n",
    "# Apply the function to the DataFrame\n",
    "train_df = train_df.groupby('symbol', group_keys=False).apply(classify_decile)\n",
    "\n",
    "# Create positions\n",
    "train_df['position'] = 0\n",
    "train_df.loc[train_df['decile'] == 9, 'position'] = 1  # Long top decile\n",
    "train_df.loc[train_df['decile'] == 0, 'position'] = -1  # Short bottom decile\n",
    "\n",
    "# Hedge the remainder to trade a neutral basket\n",
    "train_df['hedged_position'] = train_df.groupby('symbol')['position'].transform(lambda x: x - x.mean())\n",
    "\n",
    "# Calculate the strategy returns\n",
    "train_df['strategy_ret'] = train_df['hedged_position'] * train_df['ret']\n",
    "\n",
    "# Aggregate strategy returns\n",
    "strategy_returns = train_df.groupby('symbol')['strategy_ret'].sum()\n",
    "\n",
    "# Convert to cumulative returns\n",
    "strategy_returns"
   ]
  },
  {
   "cell_type": "code",
   "execution_count": 21,
   "id": "3f13d104",
   "metadata": {},
   "outputs": [],
   "source": [
    "import quantstats as qs"
   ]
  },
  {
   "cell_type": "code",
   "execution_count": 22,
   "id": "568b38db",
   "metadata": {},
   "outputs": [
    {
     "data": {
      "text/plain": [
       "<Axes: xlabel='symbol'>"
      ]
     },
     "execution_count": 22,
     "metadata": {},
     "output_type": "execute_result"
    },
    {
     "data": {
      "image/png": "[encoded data removed]",
      "text/plain": [
       "<Figure size 432x288 with 1 Axes>"
      ]
     },
     "metadata": {
      "needs_background": "light"
     },
     "output_type": "display_data"
    }
   ],
   "source": [
    "strategy_returns.plot()"
   ]
  },
  {
   "cell_type": "code",
   "execution_count": null,
   "id": "68ffae12",
   "metadata": {},
   "outputs": [],
   "source": []
  }
 ],
 "metadata": {
  "kernelspec": {
   "display_name": "Python 3",
   "language": "python",
   "name": "python3"
  },
  "language_info": {
   "codemirror_mode": {
    "name": "ipython",
    "version": 3
   },
   "file_extension": ".py",
   "mimetype": "text/x-python",
   "name": "python",
   "nbconvert_exporter": "python",
   "pygments_lexer": "ipython3",
   "version": "3.8.5"
  }
 },
 "nbformat": 4,
 "nbformat_minor": 5
}
